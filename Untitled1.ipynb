{
 "cells": [
  {
   "cell_type": "code",
   "execution_count": 21,
   "metadata": {},
   "outputs": [],
   "source": [
    "import numpy as np\n",
    "def lr2 (X,Y,t0,t1):    \n",
    "    tong1 =float()\n",
    "    tong2 = float()\n",
    "    for i in range (len(X)):\n",
    "        tong1 = tong1 + (Y[i]-(t0+t1*X[i]))\n",
    "        tong2= tong2 + ((Y[i]-(t0+t1*X[i]))*X[i])\n",
    "    return tong1,tong2"
   ]
  },
  {
   "cell_type": "code",
   "execution_count": 33,
   "metadata": {},
   "outputs": [],
   "source": [
    "X = np.array([1,2,4])\n",
    "Y = np.array([2,3,6])\n",
    "a= np.array([0,3,5])\n",
    "e = 0.01\n",
    "t0 =0 \n",
    "t1 =1\n"
   ]
  },
  {
   "cell_type": "code",
   "execution_count": 34,
   "metadata": {},
   "outputs": [],
   "source": [
    "for i in range (2):\n",
    "    h1 ,h2 = lr2(X,Y,t0,t1)\n",
    "    t0 = t0+e*h1\n",
    "    t1 = t1+e*h2"
   ]
  },
  {
   "cell_type": "code",
   "execution_count": 35,
   "metadata": {},
   "outputs": [
    {
     "name": "stdout",
     "output_type": "stream",
     "text": [
      "0.0711 1.1941000000000002\n",
      "0.0711\n",
      "3.6534000000000004\n",
      "6.041600000000002\n"
     ]
    }
   ],
   "source": [
    "print(t0,t1)\n",
    "for i in range(len(a)):\n",
    "    print (t0+t1*a[i])"
   ]
  },
  {
   "cell_type": "code",
   "execution_count": null,
   "metadata": {},
   "outputs": [],
   "source": []
  },
  {
   "cell_type": "code",
   "execution_count": null,
   "metadata": {},
   "outputs": [],
   "source": []
  }
 ],
 "metadata": {
  "kernelspec": {
   "display_name": "Python 3",
   "language": "python",
   "name": "python3"
  },
  "language_info": {
   "codemirror_mode": {
    "name": "ipython",
    "version": 3
   },
   "file_extension": ".py",
   "mimetype": "text/x-python",
   "name": "python",
   "nbconvert_exporter": "python",
   "pygments_lexer": "ipython3",
   "version": "3.6.4"
  }
 },
 "nbformat": 4,
 "nbformat_minor": 2
}
